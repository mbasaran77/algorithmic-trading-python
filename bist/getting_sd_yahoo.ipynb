{
 "metadata": {
  "language_info": {
   "codemirror_mode": {
    "name": "ipython",
    "version": 3
   },
   "file_extension": ".py",
   "mimetype": "text/x-python",
   "name": "python",
   "nbconvert_exporter": "python",
   "pygments_lexer": "ipython3",
   "version": "3.8.5-final"
  },
  "orig_nbformat": 2,
  "kernelspec": {
   "name": "python3",
   "display_name": "Python 3",
   "language": "python"
  }
 },
 "nbformat": 4,
 "nbformat_minor": 2,
 "cells": [
  {
   "cell_type": "code",
   "execution_count": 9,
   "metadata": {},
   "outputs": [],
   "source": [
    "from yahoo_fin.stock_info import get_data\n",
    "import xlsxwriter #The XlsxWriter libarary for \n",
    "import pandas as pd \n",
    "import numpy as np\n",
    "import math"
   ]
  },
  {
   "cell_type": "code",
   "execution_count": 16,
   "metadata": {},
   "outputs": [
    {
     "output_type": "execute_result",
     "data": {
      "text/plain": [
       "                 open       high        low      close   adjclose   volume  \\\n",
       "2021-01-18  19.070000  19.330000  18.760000  19.190001  19.190001  1290061   \n",
       "2021-01-19  19.219999  19.650000  19.139999  19.340000  19.340000  1991021   \n",
       "2021-01-20  19.500000  20.180000  19.480000  19.980000  19.980000  2832600   \n",
       "2021-01-21  19.920000  21.900000  19.920000  21.860001  21.860001  6377354   \n",
       "2021-01-22  21.959999  23.280001  21.879999  22.480000  22.480000  7961166   \n",
       "\n",
       "              ticker  \n",
       "2021-01-18  CIMSA.IS  \n",
       "2021-01-19  CIMSA.IS  \n",
       "2021-01-20  CIMSA.IS  \n",
       "2021-01-21  CIMSA.IS  \n",
       "2021-01-22  CIMSA.IS  "
      ],
      "text/html": "<div>\n<style scoped>\n    .dataframe tbody tr th:only-of-type {\n        vertical-align: middle;\n    }\n\n    .dataframe tbody tr th {\n        vertical-align: top;\n    }\n\n    .dataframe thead th {\n        text-align: right;\n    }\n</style>\n<table border=\"1\" class=\"dataframe\">\n  <thead>\n    <tr style=\"text-align: right;\">\n      <th></th>\n      <th>open</th>\n      <th>high</th>\n      <th>low</th>\n      <th>close</th>\n      <th>adjclose</th>\n      <th>volume</th>\n      <th>ticker</th>\n    </tr>\n  </thead>\n  <tbody>\n    <tr>\n      <th>2021-01-18</th>\n      <td>19.070000</td>\n      <td>19.330000</td>\n      <td>18.760000</td>\n      <td>19.190001</td>\n      <td>19.190001</td>\n      <td>1290061</td>\n      <td>CIMSA.IS</td>\n    </tr>\n    <tr>\n      <th>2021-01-19</th>\n      <td>19.219999</td>\n      <td>19.650000</td>\n      <td>19.139999</td>\n      <td>19.340000</td>\n      <td>19.340000</td>\n      <td>1991021</td>\n      <td>CIMSA.IS</td>\n    </tr>\n    <tr>\n      <th>2021-01-20</th>\n      <td>19.500000</td>\n      <td>20.180000</td>\n      <td>19.480000</td>\n      <td>19.980000</td>\n      <td>19.980000</td>\n      <td>2832600</td>\n      <td>CIMSA.IS</td>\n    </tr>\n    <tr>\n      <th>2021-01-21</th>\n      <td>19.920000</td>\n      <td>21.900000</td>\n      <td>19.920000</td>\n      <td>21.860001</td>\n      <td>21.860001</td>\n      <td>6377354</td>\n      <td>CIMSA.IS</td>\n    </tr>\n    <tr>\n      <th>2021-01-22</th>\n      <td>21.959999</td>\n      <td>23.280001</td>\n      <td>21.879999</td>\n      <td>22.480000</td>\n      <td>22.480000</td>\n      <td>7961166</td>\n      <td>CIMSA.IS</td>\n    </tr>\n  </tbody>\n</table>\n</div>"
     },
     "metadata": {},
     "execution_count": 16
    }
   ],
   "source": [
    "ticker = \"CIMSA.IS\"\n",
    "\n",
    "cimsa_weekly = get_data(ticker, start_date=\"01/01/2021\", end_date=\"24/01/2021\", index_as_date = True, interval=\"1d\")\n",
    "cimsa_weekly\n",
    "#amazon_weekly= get_data(\"amzn\", start_date=\"12/04/2009\", end_date=\"12/04/2019\", index_as_date = True, interval=\"1wk\")\n",
    "# amazon_weekly"
   ]
  },
  {
   "cell_type": "code",
   "execution_count": 14,
   "metadata": {},
   "outputs": [],
   "source": [
    "writer = pd.ExcelWriter('hisse_data.xlsx', engine='xlsxwriter')\n",
    "cimsa_weekly.to_excel(writer, sheet_name=ticker, index = False)"
   ]
  },
  {
   "cell_type": "code",
   "execution_count": 11,
   "metadata": {},
   "outputs": [],
   "source": [
    "writer.save()"
   ]
  },
  {
   "cell_type": "code",
   "execution_count": null,
   "metadata": {},
   "outputs": [],
   "source": []
  }
 ]
}